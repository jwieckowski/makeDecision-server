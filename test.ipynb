{
 "cells": [
  {
   "cell_type": "code",
   "execution_count": 1,
   "metadata": {},
   "outputs": [],
   "source": [
    "import pymcdm\n",
    "import pyfdm\n",
    "import numpy as np"
   ]
  },
  {
   "cell_type": "markdown",
   "metadata": {},
   "source": [
    "PYMCDM"
   ]
  },
  {
   "cell_type": "code",
   "execution_count": 5,
   "metadata": {},
   "outputs": [],
   "source": [
    "matrix = np.array([\n",
    "    [4, 5, 6],\n",
    "    [7, 5, 3],\n",
    "    [8, 6, 3]\n",
    "], dtype=float)\n",
    "ctypes = np.array([-1, 1, 1])\n",
    "weights = np.array([0.5, 0.23, 0.27])"
   ]
  },
  {
   "cell_type": "code",
   "execution_count": 7,
   "metadata": {},
   "outputs": [
    {
     "name": "stdout",
     "output_type": "stream",
     "text": [
      "[ 0.655 -0.25  -0.405]\n"
     ]
    }
   ],
   "source": [
    "try:\n",
    "    prom = pymcdm.methods.PROMETHEE_II(preference_function='vshape_2')\n",
    "\n",
    "    pref = prom(matrix, weights, ctypes, p=np.array([1, 1, 1], dtype=float), q=np.array([0, 0, 0], dtype=float))\n",
    "    print(pref)\n",
    "except: \n",
    "    print('error')"
   ]
  },
  {
   "cell_type": "markdown",
   "metadata": {},
   "source": [
    "PYFDM"
   ]
  },
  {
   "cell_type": "code",
   "execution_count": 3,
   "metadata": {},
   "outputs": [
    {
     "name": "stdout",
     "output_type": "stream",
     "text": [
      "[[0.49783531 0.05321494 0.01448534]\n",
      " [0.30129524 0.48278851 0.50441901]\n",
      " [0.20086945 0.46399656 0.48109565]]\n"
     ]
    },
    {
     "data": {
      "text/plain": [
       "array([1.        , 0.39032769, 0.60855788])"
      ]
     },
     "execution_count": 3,
     "metadata": {},
     "output_type": "execute_result"
    }
   ],
   "source": [
    "fmatrix = pyfdm.helpers.generate_fuzzy_matrix(3, 3)\n",
    "fweights = pyfdm.weights.shannon_entropy_weights(fmatrix)\n",
    "ftypes = np.array([-1, 1, 1])\n",
    "\n",
    "print(fweights)\n",
    "\n",
    "fcopras = pyfdm.methods.fCOPRAS()\n",
    "fcopras(fmatrix, fweights, ftypes)"
   ]
  }
 ],
 "metadata": {
  "kernelspec": {
   "display_name": "Python 3.10.5 64-bit",
   "language": "python",
   "name": "python3"
  },
  "language_info": {
   "codemirror_mode": {
    "name": "ipython",
    "version": 3
   },
   "file_extension": ".py",
   "mimetype": "text/x-python",
   "name": "python",
   "nbconvert_exporter": "python",
   "pygments_lexer": "ipython3",
   "version": "3.10.5"
  },
  "orig_nbformat": 4,
  "vscode": {
   "interpreter": {
    "hash": "eabca979b0553fa6d87e9a00c352604d3b703d4afc9641643dd42376492b80f6"
   }
  }
 },
 "nbformat": 4,
 "nbformat_minor": 2
}
